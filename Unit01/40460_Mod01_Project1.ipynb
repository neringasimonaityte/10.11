{
  "cells": [
    {
      "cell_type": "markdown",
      "metadata": {
        "collapsed": true
      },
      "source": [
        "#  Module 1 Project  \n",
        "Course 40460: Introduction to Python, Unit 1\n",
        "\n",
        "The activity is based on Module 1 and is similar to the Jupyter Notebook for Module 1 practice, which you may have completed.\n",
        "\n",
        "> **NOTE:** This program requires print output and code syntax used in Module 1.\n",
        "\n",
        "| Some Assignment Requirements |  \n",
        "|:-------------------------------|  \n",
        "| **NOTE:** This program requires `print` output and using code syntax used in Module 1 such as variable assignment, `input`, `in` keyword, `.lower()` or `.upper()` method.  |  \n",
        "\n",
        "\n",
        "## Program: Allergy Check  \n",
        "\n",
        "1. **[ ]** Get user **`input`** for categories of food eaten in the last 24 hours  \n",
        " save in a variable called **input_test**.  \n",
        " *Example input*\n",
        " [![01 02 practice Allergy-input](https://iajupyterprodblobs.blob.core.windows.net/imagecontainer/eaten_input.gif) ](https://1drv.ms/i/s!Am_KPRosgtaij65qzFD5CGvv95-ijg)\n",
        "&nbsp;  \n",
        "2. **[ ]** Print **`True`** if \"dairy\" is in the **input_test** string.  \n",
        "**[ ]** Test the code so far.  \n",
        "&nbsp;\n",
        "3. **[ ]** Modify the print statement to output similar to below.  \n",
        "*Example output*\n",
        "[![01 02 Allergy output](https://iajupyterprodblobs.blob.core.windows.net/imagecontainer/eaten_output.gif) ](https://1drv.ms/i/s!Am_KPRosgtaij65rET-wmlpCdMX7CQ)  \n",
        "Test the code so far trying input including and without the string \"dairy\".  \n",
        "&nbsp;  \n",
        "\n",
        "4. **[ ]** Repeat the process checking the input for \"nuts\", **challenge** add \"Seafood\" and \"chocolate\".  \n",
        "**[ ]** Test your code.  \n",
        "&nbsp;  \n",
        "  \n",
        "5. **[ ] Challenge:** Make your code work for input regardless of case, e.g. - print **`True`** for \"Nuts\", \"NuTs\", \"NUTS\" or \"nuts\".  \n"
      ]
    },
    {
      "cell_type": "code",
      "execution_count": 1,
      "metadata": {
        "trusted": true
      },
      "outputs": [
        {
          "name": "stdout",
          "output_type": "stream",
          "text": [
            "meat, vegetables and fruits\n",
            "False\n",
            "It is False that \"meat, vegetables and fruits \" contains \"dairy\"\n",
            "It is False that \"meat, vegetables and fruits\" contains \"nuts\"\n",
            "It is False that \"meat, vegetables and fruits\" contains \"seafood\"\n",
            "It is False that \"meat, vegetables and fruits\" contains \"chocolate\"\n"
          ]
        }
      ],
      "source": [
        "# Create Allergy check code\n",
        "\n",
        "# [ ] get input for input_test variable\n",
        "input_test = input(\"What kind of food you ate in the last 24 hours?\")\n",
        "print(input_test)\n",
        "\n",
        "# [ ] print \"True\" message if \"dairy\" is in the input or False message if not\n",
        "print(\"dairy\" in input_test.lower())\n",
        "print(\"It is\", \"dairy\" in input_test.lower(), 'that \"' + input_test + ' \" contains \"dairy\"')\n",
        "\n",
        "# [ ] print True message if \"nuts\" is in the input or False if not\n",
        "print(\"It is\", \"nuts\" in input_test.lower(), 'that \"' + input_test + '\" contains \"nuts\"')\n",
        "\n",
        "# [ ] Challenge: Check if \"seafood\" is in the input - print message\n",
        "print(\"It is\", \"seafood\" in input_test.lower(), 'that \"' + input_test + '\" contains \"seafood\"')\n",
        "\n",
        "# [ ] Challenge: Check if \"chocolate\" is in the input - print message\n",
        "print(\"It is\", \"chocolate\" in input_test.lower(), 'that \"' + input_test + '\" contains \"chocolate\"')\n"
      ]
    },
    {
      "cell_type": "markdown",
      "metadata": {},
      "source": [
        "[Terms of use](http://go.microsoft.com/fwlink/?LinkID=206977) &nbsp; [Privacy & cookies](https://go.microsoft.com/fwlink/?LinkId=521839) &nbsp; © 2017 Microsoft"
      ]
    }
  ],
  "metadata": {
    "anaconda-cloud": {},
    "kernelspec": {
      "display_name": "Python 3",
      "language": "python",
      "name": "python3"
    },
    "language_info": {
      "codemirror_mode": {
        "name": "ipython",
        "version": 3
      },
      "file_extension": ".py",
      "mimetype": "text/x-python",
      "name": "python",
      "nbconvert_exporter": "python",
      "pygments_lexer": "ipython3",
      "version": "3.8.13"
    },
    "vscode": {
      "interpreter": {
        "hash": "9ac03a0a6051494cc606d484d27d20fce22fb7b4d169f583271e11d5ba46a56e"
      }
    }
  },
  "nbformat": 4,
  "nbformat_minor": 1
}
