{
  "cells": [
    {
      "cell_type": "markdown",
      "metadata": {},
      "source": [
        "# Lab 1b\n",
        "## Strings Practice: Input, Testing, and Formatting\n",
        "\n",
        "-----\n",
        "\n",
        "### Student will be able to\n",
        "- Gather, store and use string `input()`  \n",
        "- Format `print()` output  \n",
        "- Test string characteristics  \n",
        "- Format string output  \n",
        "- Search for a string in a string  "
      ]
    },
    {
      "cell_type": "markdown",
      "metadata": {},
      "source": [
        "## input()\n",
        "Getting input from users"
      ]
    },
    {
      "cell_type": "code",
      "execution_count": 2,
      "metadata": {
        "scrolled": true,
        "trusted": true
      },
      "outputs": [
        {
          "name": "stdout",
          "output_type": "stream",
          "text": [
            "to check the time\n"
          ]
        }
      ],
      "source": [
        "# [ ] get user input for a variable named remind_me\n",
        "remind_me = input()\n",
        "\n",
        "# [ ] print the value of the variable remind_me\n",
        "print(remind_me)\n"
      ]
    },
    {
      "cell_type": "code",
      "execution_count": 3,
      "metadata": {
        "trusted": false
      },
      "outputs": [
        {
          "name": "stdout",
          "output_type": "stream",
          "text": [
            "remember: to check the time\n"
          ]
        }
      ],
      "source": [
        "# use string addition to print \"remember: \" before the remind_me input string\n",
        "print(\"remember: \" + remind_me)\n"
      ]
    },
    {
      "cell_type": "markdown",
      "metadata": {},
      "source": [
        "### Program: Meeting Details\n",
        "#### [ ] Get user **input** for meeting subject and time\n",
        "`What is the meeting subject?: plan for graduation`  \n",
        "`What is the meeting time?: 3:00 PM on Monday`  \n",
        "\n",
        "#### [ ] Print **output** with descriptive labels  \n",
        "`Meeting Subject: plan for graduation`  \n",
        "`Meeting Time:    3:00 PM on Monday`"
      ]
    },
    {
      "cell_type": "code",
      "execution_count": 1,
      "metadata": {
        "trusted": false
      },
      "outputs": [
        {
          "name": "stdout",
          "output_type": "stream",
          "text": [
            "Meeting subject: plan for graduation\n",
            "Meeting time: 3:00 PM on Monday\n"
          ]
        }
      ],
      "source": [
        "# [ ] get user input for 2 variables: meeting_subject and meeting_time\n",
        "meeting_subject = input()\n",
        "meeting_time = input()\n",
        "# [ ] use string addition to print meeting subject and time with labels\n",
        "print(\"Meeting subject: \" + meeting_subject)\n",
        "print(\"Meeting time: \" + meeting_time)\n",
        "\n",
        "\n"
      ]
    },
    {
      "cell_type": "markdown",
      "metadata": {
        "collapsed": true
      },
      "source": [
        "## print() formatting \n",
        "### Combining multiple strings separated by commas in the print() function"
      ]
    },
    {
      "cell_type": "code",
      "execution_count": 2,
      "metadata": {
        "trusted": false
      },
      "outputs": [
        {
          "name": "stdout",
          "output_type": "stream",
          "text": [
            "Wednesday is in the middle of the week\n"
          ]
        }
      ],
      "source": [
        "# [ ] print the combined strings \"Wednesday is\" and \"in the middle of the week\" \n",
        "\n",
        "print(\"Wednesday is \" + \"in the middle of the week\")"
      ]
    },
    {
      "cell_type": "code",
      "execution_count": 3,
      "metadata": {
        "trusted": false
      },
      "outputs": [
        {
          "name": "stdout",
          "output_type": "stream",
          "text": [
            "Remember to check the time\n"
          ]
        }
      ],
      "source": [
        "# [ ] print combined string \"Remember to\" and the string variable remind_me from input above\n",
        "remind_me = input()\n",
        "print(\"Remember to\", remind_me)\n"
      ]
    },
    {
      "cell_type": "code",
      "execution_count": 7,
      "metadata": {
        "trusted": false
      },
      "outputs": [
        {
          "name": "stdout",
          "output_type": "stream",
          "text": [
            "Remember to check the time at 6pm about better planning\n"
          ]
        }
      ],
      "source": [
        "# [ ] Combine 3 variables from above with multiple strings\n",
        "meeting_time = \"6pm\"\n",
        "meeting_subject = \"better planning\"\n",
        "print(\"Remember to\", remind_me, \"at\", meeting_time, \"about\", meeting_subject)\n"
      ]
    },
    {
      "cell_type": "markdown",
      "metadata": {
        "collapsed": true
      },
      "source": [
        "### print() quotation marks"
      ]
    },
    {
      "cell_type": "code",
      "execution_count": 1,
      "metadata": {
        "trusted": false
      },
      "outputs": [
        {
          "name": "stdout",
          "output_type": "stream",
          "text": [
            "It is Paul's car\n"
          ]
        }
      ],
      "source": [
        "# [ ] print a string sentence that will display an Apostrophe (')\n",
        "\n",
        "print(\"It is Paul's car\")\n"
      ]
    },
    {
      "cell_type": "code",
      "execution_count": null,
      "metadata": {
        "trusted": false
      },
      "outputs": [],
      "source": [
        "# [ ] print a string sentence that will display an Apostrophe (')\n",
        "\n",
        "\n"
      ]
    },
    {
      "cell_type": "markdown",
      "metadata": {
        "collapsed": true
      },
      "source": [
        "## Boolean string tests"
      ]
    },
    {
      "cell_type": "markdown",
      "metadata": {},
      "source": [
        "### Vehicle tests  \n",
        "#### Get user input for a variable named vehicle  \n",
        "Print the following test results:\n",
        "- Check True or False if vehicle is All alphabetical characters using .isalpha()  \n",
        "- Check True or False if vehicle is only All alphabetical & numeric characters  \n",
        "- Check True or False if vehicle is Capitalized (first letter only)  \n",
        "- Check True or False if vehicle is All lowercase  \n",
        "- **Bonus:** Print description for each test (e.g.- `\"All Alpha: True\"`)"
      ]
    },
    {
      "cell_type": "code",
      "execution_count": 4,
      "metadata": {
        "trusted": false
      },
      "outputs": [
        {
          "name": "stdout",
          "output_type": "stream",
          "text": [
            "Audi A3\n",
            "Checking if vehicle is All alphabetical characters: False\n",
            "Checking if vehicle is only All alphabetical & numeric characters: False\n",
            "Checking if vehicle is Capitalized (first letter only): True\n",
            "Checking if vehicle is All lowercase: False\n"
          ]
        }
      ],
      "source": [
        "# [ ] complete vehicle tests \n",
        "vehicle = input()\n",
        "print(vehicle)\n",
        "\n",
        "print(\"Checking if vehicle is All alphabetical characters:\", vehicle.isalpha())\n",
        "print(\"Checking if vehicle is only All alphabetical & numeric characters:\", vehicle.isalnum())\n",
        "print(\"Checking if vehicle is Capitalized (first letter only):\", vehicle.istitle())\n",
        "print(\"Checking if vehicle is All lowercase:\", vehicle.islower())\n",
        "\n",
        "\n",
        "\n"
      ]
    },
    {
      "cell_type": "code",
      "execution_count": 9,
      "metadata": {
        "trusted": false
      },
      "outputs": [
        {
          "name": "stdout",
          "output_type": "stream",
          "text": [
            "False\n"
          ]
        }
      ],
      "source": [
        "# [ ] print True or False if color starts with \"b\" \n",
        "\n",
        "print(\"color\".startswith('b'))\n"
      ]
    },
    {
      "cell_type": "code",
      "execution_count": null,
      "metadata": {
        "collapsed": true,
        "trusted": false
      },
      "outputs": [],
      "source": []
    },
    {
      "cell_type": "markdown",
      "metadata": {},
      "source": [
        "## String formatting"
      ]
    },
    {
      "cell_type": "code",
      "execution_count": 11,
      "metadata": {
        "trusted": false
      },
      "outputs": [
        {
          "name": "stdout",
          "output_type": "stream",
          "text": [
            "The time is noon.\n"
          ]
        }
      ],
      "source": [
        "# [ ] print the string variable capital_this Capitalizing only the first letter\n",
        "capitalize_this = \"the TIME is Noon.\"\n",
        "\n",
        "print(capitalize_this.capitalize())"
      ]
    },
    {
      "cell_type": "code",
      "execution_count": 12,
      "metadata": {
        "trusted": false
      },
      "outputs": [
        {
          "name": "stdout",
          "output_type": "stream",
          "text": [
            "Who WRITES like This?\n"
          ]
        }
      ],
      "source": [
        "# print the string variable swap_this in swapped case\n",
        "swap_this = \"wHO writes LIKE tHIS?\"\n",
        "\n",
        "print(swap_this.swapcase())"
      ]
    },
    {
      "cell_type": "code",
      "execution_count": 14,
      "metadata": {
        "trusted": false
      },
      "outputs": [
        {
          "name": "stdout",
          "output_type": "stream",
          "text": [
            "can you hear me?\n"
          ]
        }
      ],
      "source": [
        "# print the string variable whisper_this in all lowercase\n",
        "whisper_this = \"Can you hear me?\"\n",
        "\n",
        "print(whisper_this.lower())"
      ]
    },
    {
      "cell_type": "code",
      "execution_count": 15,
      "metadata": {
        "trusted": false
      },
      "outputs": [
        {
          "name": "stdout",
          "output_type": "stream",
          "text": [
            "CAN YOU HEAR ME NOW!?\n"
          ]
        }
      ],
      "source": [
        "# print the string variable yell_this in all UPPERCASE\n",
        "yell_this = \"Can you hear me Now!?\"\n",
        "\n",
        "print(yell_this.upper())"
      ]
    },
    {
      "cell_type": "code",
      "execution_count": 17,
      "metadata": {
        "trusted": false
      },
      "outputs": [
        {
          "name": "stdout",
          "output_type": "stream",
          "text": [
            "GERAI\n",
            "gerai\n",
            "gERAI\n",
            "Gerai\n"
          ]
        }
      ],
      "source": [
        "#format input using .upper(), .lower(), .swapcase, .capitalize()\n",
        "format_input = input('enter a string to reformat: ')\n",
        "\n",
        "print(format_input.upper())\n",
        "print(format_input.lower())\n",
        "print(format_input.swapcase())\n",
        "print(format_input.capitalize())"
      ]
    },
    {
      "cell_type": "markdown",
      "metadata": {},
      "source": [
        "### input() formatting"
      ]
    },
    {
      "cell_type": "code",
      "execution_count": 18,
      "metadata": {
        "trusted": false
      },
      "outputs": [
        {
          "name": "stdout",
          "output_type": "stream",
          "text": [
            "yellow\n"
          ]
        }
      ],
      "source": [
        "# [ ] get user input for a variable named color\n",
        "# [ ] modify color to be all lowercase and print\n",
        "color = input()\n",
        "print(color.lower())\n"
      ]
    },
    {
      "cell_type": "code",
      "execution_count": 21,
      "metadata": {
        "trusted": false
      },
      "outputs": [
        {
          "name": "stdout",
          "output_type": "stream",
          "text": [
            "CHECK THE TIME\n",
            "check the time\n"
          ]
        }
      ],
      "source": [
        "# [ ] get user input using variable remind_me and format to all **lowercase** and print\n",
        "# [ ] test using input with mixed upper and lower cases\n",
        "remind_me = input()\n",
        "print(remind_me.upper())\n",
        "print(remind_me.lower())\n"
      ]
    },
    {
      "cell_type": "code",
      "execution_count": 22,
      "metadata": {
        "trusted": false
      },
      "outputs": [
        {
          "name": "stdout",
          "output_type": "stream",
          "text": [
            "COME HOME\n"
          ]
        }
      ],
      "source": [
        "# [] get user input for the variable yell_this and format as a \"YELL\" to ALL CAPS\n",
        "yell_this = input()\n",
        "print(yell_this.upper())\n"
      ]
    },
    {
      "cell_type": "code",
      "execution_count": null,
      "metadata": {
        "collapsed": true,
        "trusted": false
      },
      "outputs": [],
      "source": []
    },
    {
      "cell_type": "markdown",
      "metadata": {},
      "source": [
        "## \"in\" keyword\n",
        "### Boolean: short_str in long_str"
      ]
    },
    {
      "cell_type": "code",
      "execution_count": 23,
      "metadata": {
        "trusted": false
      },
      "outputs": [
        {
          "name": "stdout",
          "output_type": "stream",
          "text": [
            "False\n"
          ]
        }
      ],
      "source": [
        "# [ ] get user input for the name of some animals in the variable animals_input\n",
        "animals_input = input()\n",
        "\n",
        "# [ ] print true or false if 'cat' is in the string variable animals_input\n",
        "print('cat' in animals_input)\n"
      ]
    },
    {
      "cell_type": "code",
      "execution_count": 34,
      "metadata": {
        "collapsed": true,
        "trusted": false
      },
      "outputs": [
        {
          "name": "stdout",
          "output_type": "stream",
          "text": [
            "False\n",
            "Blue\n",
            "BLUE\n",
            "bLUE\n"
          ]
        }
      ],
      "source": [
        "# [ ] get user input for color\n",
        "color = input()\n",
        "\n",
        "# [ ] print True or False for starts with \"b\"\n",
        "\n",
        "print(color.startswith(\"b\"))\n",
        "\n",
        "\n",
        "# [ ] print color variable value exactly as input \n",
        "#     test with input: \"Blue\", \"BLUE\", \"bLUE\"\n",
        "print(color)\n",
        "color = input()\n",
        "print(color)\n",
        "color = input()\n",
        "print(color)\n",
        "\n"
      ]
    },
    {
      "cell_type": "markdown",
      "metadata": {},
      "source": [
        "## Program: Guess what I'm reading\n",
        "### short_str in long_str\n",
        "\n",
        "1. **[ ]** get user **`input`** for a single word describing something that can be read \n",
        " save in a variable called **can_read**  \n",
        " e.g. - \"website\", \"newspaper\", \"blog\", \"textbook\"  \n",
        " &nbsp;  \n",
        "2. **[ ]** get user **`input`** for 3 things can be read  \n",
        " save in a variable called **can_read_things**  \n",
        "&nbsp;  \n",
        "\n",
        "3. **[ ]** print **`true`** if the **can_read** string is found  \n",
        " **in** the **can_read_things** string variable\n",
        "  \n",
        "*Example of program input and output*  \n",
        "[![01 02 practice Allergy-input](https://iajupyterprodblobs.blob.core.windows.net/imagecontainer/guess_reading.gif) ](https://1drv.ms/i/s!Am_KPRosgtaij7A_G6RtDlWZeYA3ZA)\n"
      ]
    },
    {
      "cell_type": "code",
      "execution_count": 41,
      "metadata": {
        "trusted": false
      },
      "outputs": [
        {
          "name": "stdout",
          "output_type": "stream",
          "text": [
            "book\n",
            "newspaper, advert, message\n",
            "False\n",
            "You can read the book and newspaper, advert, message\n"
          ]
        }
      ],
      "source": [
        "# project: \"guess what I'm reading\"\n",
        "\n",
        "# 1[ ] get 1 word input for can_read variable\n",
        "can_read = input(\"What can be read? : \")\n",
        "print(can_read)\n",
        "\n",
        "# 2[ ] get 3 things input for can_read_things variable\n",
        "can_read_things = input(\"Enter other 3 things you can read: \")\n",
        "print(can_read_things)\n",
        "# 3[ ] print True if can_read is in can_read_things\n",
        "print(can_read in can_read_things)\n",
        "\n",
        "# [] challenge: format the output to read \"item found = True\" (or false)\n",
        "# hint: look print formatting exercises\n",
        "print(\"You can read the\", can_read, \"and\", can_read_things )\n"
      ]
    },
    {
      "cell_type": "markdown",
      "metadata": {},
      "source": [
        "## Program: Allergy Check\n",
        "\n",
        "1. **[ ]** get user **`input`** for categories of food eaten in the last 24 hours  \n",
        " save in a variable called **input_test**  \n",
        " *Example input*\n",
        " [![01 02 practice Allergy-input](https://iajupyterprodblobs.blob.core.windows.net/imagecontainer/eaten_input.gif) ](https://1drv.ms/i/s!Am_KPRosgtaij65qzFD5CGvv95-ijg)\n",
        "&nbsp;  \n",
        "2. **[ ]** Print **`True`** if \"dairy\" is in the **input_test** string.  \n",
        "**[ ]** Test the code so far.  \n",
        "&nbsp;\n",
        "3. **[ ]** Modify the print statement to output similar to below.  \n",
        "*Example output*\n",
        "[![01 02 Allergy output](https://iajupyterprodblobs.blob.core.windows.net/imagecontainer/eaten_output.gif) ](https://1drv.ms/i/s!Am_KPRosgtaij65rET-wmlpCdMX7CQ)  \n",
        "Test the code so far trying input including and without the string \"dairy\".  \n",
        "&nbsp;  \n",
        "\n",
        "4. **[ ]** Repeat the process checking the input for \"nuts\", **challenge** add \"Seafood\" and \"chocolate\".  \n",
        "**[ ]** Test your code  \n",
        "&nbsp;  \n",
        "  \n",
        "5. **[ ] Challenge:** Make your code work for input regardless of case, e.g. - print **`True`** for \"Nuts\", \"NuTs\", \"NUTS\" or \"nuts\".  \n"
      ]
    },
    {
      "cell_type": "code",
      "execution_count": 47,
      "metadata": {
        "trusted": false
      },
      "outputs": [
        {
          "name": "stdout",
          "output_type": "stream",
          "text": [
            "What kind of food you eaten in the last 24 hours?: dairy, meat and vegetables\n",
            "True\n",
            "It is True that chocolate contains dairy?\n",
            "False\n",
            "False\n",
            "False\n"
          ]
        }
      ],
      "source": [
        "# Allergy check \n",
        "\n",
        "# 1[ ] get input for test\n",
        "input_test = input(\"What kind of food you eaten in the last 24 hours?: \").lower()\n",
        "print(\"What kind of food you eaten in the last 24 hours?:\", input_test)\n",
        "\n",
        "# 2/3[ ] print True if \"dairy\" is in the input or False if not\n",
        "print(\"dairy\" in input_test.lower())\n",
        "print(\"It is\", \"dairy\" in input_test.lower(), 'that chocolate contains dairy?')\n",
        "# 4[ ] Check if \"nuts\" are in the input\n",
        "print(\"nuts\" in input_test.lower())\n",
        "# 4+[ ] Challenge: Check if \"seafood\" is in the input\n",
        "print(\"seafood\" in input_test.lower())\n",
        "# 4+[ ] Challenge: Check if \"chocolate\" is in the input\n",
        "print(\"chocolate\" in input_test.lower())\n",
        "\n",
        "\n"
      ]
    },
    {
      "cell_type": "markdown",
      "metadata": {},
      "source": [
        "[Terms of use](http://go.microsoft.com/fwlink/?LinkID=206977) &nbsp; [Privacy & cookies](https://go.microsoft.com/fwlink/?LinkId=521839) &nbsp; © 2017 Microsoft"
      ]
    }
  ],
  "metadata": {
    "anaconda-cloud": {},
    "kernelspec": {
      "display_name": "Python 3",
      "language": "python",
      "name": "python3"
    },
    "language_info": {
      "codemirror_mode": {
        "name": "ipython",
        "version": 3
      },
      "file_extension": ".py",
      "mimetype": "text/x-python",
      "name": "python",
      "nbconvert_exporter": "python",
      "pygments_lexer": "ipython3",
      "version": "3.8.13"
    },
    "vscode": {
      "interpreter": {
        "hash": "9ac03a0a6051494cc606d484d27d20fce22fb7b4d169f583271e11d5ba46a56e"
      }
    }
  },
  "nbformat": 4,
  "nbformat_minor": 1
}
